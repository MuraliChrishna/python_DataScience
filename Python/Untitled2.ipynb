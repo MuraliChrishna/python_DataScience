{
 "cells": [
  {
   "cell_type": "code",
   "execution_count": 32,
   "metadata": {},
   "outputs": [],
   "source": [
    "# class is a blueprint for future object\n",
    "class Dog():\n",
    "    \n",
    "    # Class object Attribute\n",
    "    # same for any instance of a class \n",
    "    species = 'mammal'\n",
    "    \n",
    "    \n",
    "    #self connect method with the instance of the class\n",
    "    #constructor of the class is init\n",
    "    #self is a hidden method in other prograamong languages \n",
    "    # in python it is passed explicitly\n",
    "    def __init__(self, breed, tail, name, spots):\n",
    "        # Attributes \n",
    "        # we take in the arguments \n",
    "        #assign it using self.attribute_name\n",
    "        self.breed = breed\n",
    "        self.tail = tail\n",
    "        self.name = name\n",
    "        \n",
    "        # expect a boolean True/False\n",
    "        self.spots = spots\n",
    "    \n",
    "    \n",
    "    # operation /Actiosn ----> formally methods \n",
    "    # method is a function inside the class which works with object \n",
    "    \n",
    "    # we are not using self for number because it is internal for the method\n",
    "    def bark(self, number ):\n",
    "        print(f'Woof! {self.name} and my id is {number}')"
   ]
  },
  {
   "cell_type": "code",
   "execution_count": 33,
   "metadata": {},
   "outputs": [],
   "source": [
    "my_Dog = Dog(breed = 'Lab', tail = 'Yes', name = 'chris', spots = False)\n",
    "# creating the instance of a class\n",
    "my_dog = Dog('LAB', 'YES', 'CHRIS', False)\n"
   ]
  },
  {
   "cell_type": "code",
   "execution_count": 34,
   "metadata": {},
   "outputs": [
    {
     "data": {
      "text/plain": [
       "__main__.Dog"
      ]
     },
     "execution_count": 34,
     "metadata": {},
     "output_type": "execute_result"
    }
   ],
   "source": [
    "type(my_Dog)\n"
   ]
  },
  {
   "cell_type": "code",
   "execution_count": 35,
   "metadata": {},
   "outputs": [
    {
     "data": {
      "text/plain": [
       "False"
      ]
     },
     "execution_count": 35,
     "metadata": {},
     "output_type": "execute_result"
    }
   ],
   "source": [
    "my_Dog.spots"
   ]
  },
  {
   "cell_type": "code",
   "execution_count": 36,
   "metadata": {},
   "outputs": [
    {
     "data": {
      "text/plain": [
       "'mammal'"
      ]
     },
     "execution_count": 36,
     "metadata": {},
     "output_type": "execute_result"
    }
   ],
   "source": [
    "my_Dog.species"
   ]
  },
  {
   "cell_type": "code",
   "execution_count": 38,
   "metadata": {},
   "outputs": [
    {
     "name": "stdout",
     "output_type": "stream",
     "text": [
      "Woof! CHRIS and my id is 20\n"
     ]
    }
   ],
   "source": [
    "# methos are functions inside the body of the clas \n",
    "# which use attributes of the actual class \n",
    "# this a method so we are including the braces \n",
    "# for attributes we dont have to include the braces \n",
    "my_dog.bark(20)"
   ]
  },
  {
   "cell_type": "code",
   "execution_count": null,
   "metadata": {},
   "outputs": [],
   "source": [
    "\n",
    "\n",
    "\n"
   ]
  },
  {
   "cell_type": "code",
   "execution_count": null,
   "metadata": {},
   "outputs": [],
   "source": []
  },
  {
   "cell_type": "code",
   "execution_count": null,
   "metadata": {},
   "outputs": [],
   "source": [
    "\n"
   ]
  },
  {
   "cell_type": "code",
   "execution_count": 52,
   "metadata": {},
   "outputs": [],
   "source": [
    "class Circle ():\n",
    "    \n",
    "    # class object attribute\n",
    "    \n",
    "    pi = 3.141\n",
    "    # 1 is the default value of the radius\n",
    "    # we can have attributes inside the constructorewith out declaring them in the initial method\n",
    "    \n",
    "    def __init__(self, radius=1):\n",
    "        self.radius = radius\n",
    "        # we can either do self.pi or we can do Circle.pi for the class level attributes\n",
    "        self.area = radius*radius*self.pi\n",
    "        \n",
    "    def get_circumference(self):\n",
    "        return self.radius*self.pi *2"
   ]
  },
  {
   "cell_type": "code",
   "execution_count": 53,
   "metadata": {},
   "outputs": [],
   "source": [
    "mycircle = Circle(100)\n",
    "# when we have a default value we dont have to declare them here in the object creation"
   ]
  },
  {
   "cell_type": "code",
   "execution_count": 54,
   "metadata": {},
   "outputs": [
    {
     "data": {
      "text/plain": [
       "100"
      ]
     },
     "execution_count": 54,
     "metadata": {},
     "output_type": "execute_result"
    }
   ],
   "source": [
    "mycircle.radius"
   ]
  },
  {
   "cell_type": "code",
   "execution_count": 55,
   "metadata": {},
   "outputs": [
    {
     "data": {
      "text/plain": [
       "628.2"
      ]
     },
     "execution_count": 55,
     "metadata": {},
     "output_type": "execute_result"
    }
   ],
   "source": [
    "mycircle.get_circumference()"
   ]
  },
  {
   "cell_type": "code",
   "execution_count": 56,
   "metadata": {},
   "outputs": [
    {
     "data": {
      "text/plain": [
       "31410.0"
      ]
     },
     "execution_count": 56,
     "metadata": {},
     "output_type": "execute_result"
    }
   ],
   "source": [
    "mycircle.area"
   ]
  },
  {
   "cell_type": "code",
   "execution_count": null,
   "metadata": {},
   "outputs": [],
   "source": []
  }
 ],
 "metadata": {
  "kernelspec": {
   "display_name": "Python 3",
   "language": "python",
   "name": "python3"
  },
  "language_info": {
   "codemirror_mode": {
    "name": "ipython",
    "version": 3
   },
   "file_extension": ".py",
   "mimetype": "text/x-python",
   "name": "python",
   "nbconvert_exporter": "python",
   "pygments_lexer": "ipython3",
   "version": "3.6.6"
  }
 },
 "nbformat": 4,
 "nbformat_minor": 2
}
