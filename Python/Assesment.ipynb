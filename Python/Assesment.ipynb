{
 "cells": [
  {
   "cell_type": "code",
   "execution_count": 37,
   "metadata": {},
   "outputs": [],
   "source": [
    "st = 'Print only the words that start with s in this sentence'\n",
    "my_list = st.split()"
   ]
  },
  {
   "cell_type": "code",
   "execution_count": 38,
   "metadata": {},
   "outputs": [
    {
     "data": {
      "text/plain": [
       "['Print',\n",
       " 'only',\n",
       " 'the',\n",
       " 'words',\n",
       " 'that',\n",
       " 'start',\n",
       " 'with',\n",
       " 's',\n",
       " 'in',\n",
       " 'this',\n",
       " 'sentence']"
      ]
     },
     "execution_count": 38,
     "metadata": {},
     "output_type": "execute_result"
    }
   ],
   "source": [
    "my_list"
   ]
  },
  {
   "cell_type": "code",
   "execution_count": 41,
   "metadata": {},
   "outputs": [
    {
     "name": "stdout",
     "output_type": "stream",
     "text": [
      "start\n",
      "s\n",
      "sentence\n"
     ]
    }
   ],
   "source": [
    "for x in my_list:\n",
    "    if x[0] =='s'or x[0] == 'S': #u can also do if x[0].tolower() =='s':\n",
    "        print (x)"
   ]
  },
  {
   "cell_type": "code",
   "execution_count": 43,
   "metadata": {},
   "outputs": [
    {
     "name": "stdout",
     "output_type": "stream",
     "text": [
      "0\n",
      "2\n",
      "4\n",
      "6\n",
      "8\n",
      "10\n"
     ]
    }
   ],
   "source": [
    "for r in range(0,11,2):\n",
    "    print(r)\n",
    "    "
   ]
  },
  {
   "cell_type": "code",
   "execution_count": 17,
   "metadata": {},
   "outputs": [],
   "source": [
    "my_list=[x for x in range(0,51) ]"
   ]
  },
  {
   "cell_type": "code",
   "execution_count": 18,
   "metadata": {},
   "outputs": [
    {
     "data": {
      "text/plain": [
       "[0,\n",
       " 1,\n",
       " 2,\n",
       " 0,\n",
       " 1,\n",
       " 2,\n",
       " 0,\n",
       " 1,\n",
       " 2,\n",
       " 0,\n",
       " 1,\n",
       " 2,\n",
       " 0,\n",
       " 1,\n",
       " 2,\n",
       " 0,\n",
       " 1,\n",
       " 2,\n",
       " 0,\n",
       " 1,\n",
       " 2,\n",
       " 0,\n",
       " 1,\n",
       " 2,\n",
       " 0,\n",
       " 1,\n",
       " 2,\n",
       " 0,\n",
       " 1,\n",
       " 2,\n",
       " 0,\n",
       " 1,\n",
       " 2,\n",
       " 0,\n",
       " 1,\n",
       " 2,\n",
       " 0,\n",
       " 1,\n",
       " 2,\n",
       " 0,\n",
       " 1,\n",
       " 2,\n",
       " 0,\n",
       " 1,\n",
       " 2,\n",
       " 0,\n",
       " 1,\n",
       " 2,\n",
       " 0,\n",
       " 1,\n",
       " 2]"
      ]
     },
     "execution_count": 18,
     "metadata": {},
     "output_type": "execute_result"
    }
   ],
   "source": [
    "my_list"
   ]
  },
  {
   "cell_type": "code",
   "execution_count": 19,
   "metadata": {},
   "outputs": [],
   "source": [
    "my_list=[x for x in range(0,51) if x%3 ==0]"
   ]
  },
  {
   "cell_type": "code",
   "execution_count": 20,
   "metadata": {},
   "outputs": [
    {
     "data": {
      "text/plain": [
       "[0, 3, 6, 9, 12, 15, 18, 21, 24, 27, 30, 33, 36, 39, 42, 45, 48]"
      ]
     },
     "execution_count": 20,
     "metadata": {},
     "output_type": "execute_result"
    }
   ],
   "source": [
    "my_list"
   ]
  },
  {
   "cell_type": "code",
   "execution_count": 21,
   "metadata": {},
   "outputs": [],
   "source": [
    "st = \"print every word in this sentence that has an even number of letters\"\n",
    "my_list = st.split()"
   ]
  },
  {
   "cell_type": "code",
   "execution_count": 44,
   "metadata": {},
   "outputs": [
    {
     "name": "stdout",
     "output_type": "stream",
     "text": [
      "only\n",
      "that\n",
      "with\n",
      "in\n",
      "this\n",
      "sentence\n"
     ]
    }
   ],
   "source": [
    "for x in my_list:\n",
    "    if len(x)%2==0:\n",
    "        print(x)\n",
    " "
   ]
  },
  {
   "cell_type": "code",
   "execution_count": 34,
   "metadata": {},
   "outputs": [
    {
     "name": "stdout",
     "output_type": "stream",
     "text": [
      "FizzBuzz\n",
      "no\n",
      "no\n",
      "Fizz\n",
      "no\n",
      "Buzz\n",
      "Fizz\n",
      "no\n",
      "no\n",
      "Fizz\n",
      "Buzz\n",
      "no\n",
      "Fizz\n",
      "no\n",
      "no\n",
      "FizzBuzz\n",
      "no\n",
      "no\n",
      "Fizz\n",
      "no\n",
      "Buzz\n",
      "Fizz\n",
      "no\n",
      "no\n",
      "Fizz\n",
      "Buzz\n",
      "no\n",
      "Fizz\n",
      "no\n",
      "no\n",
      "FizzBuzz\n",
      "no\n",
      "no\n",
      "Fizz\n",
      "no\n",
      "Buzz\n",
      "Fizz\n",
      "no\n",
      "no\n",
      "Fizz\n",
      "Buzz\n",
      "no\n",
      "Fizz\n",
      "no\n",
      "no\n",
      "FizzBuzz\n",
      "no\n",
      "no\n",
      "Fizz\n",
      "no\n",
      "Buzz\n",
      "Fizz\n",
      "no\n",
      "no\n",
      "Fizz\n",
      "Buzz\n",
      "no\n",
      "Fizz\n",
      "no\n",
      "no\n",
      "FizzBuzz\n",
      "no\n",
      "no\n",
      "Fizz\n",
      "no\n",
      "Buzz\n",
      "Fizz\n",
      "no\n",
      "no\n",
      "Fizz\n",
      "Buzz\n",
      "no\n",
      "Fizz\n",
      "no\n",
      "no\n",
      "FizzBuzz\n",
      "no\n",
      "no\n",
      "Fizz\n",
      "no\n",
      "Buzz\n",
      "Fizz\n",
      "no\n",
      "no\n",
      "Fizz\n",
      "Buzz\n",
      "no\n",
      "Fizz\n",
      "no\n",
      "no\n",
      "FizzBuzz\n",
      "no\n",
      "no\n",
      "Fizz\n",
      "no\n",
      "Buzz\n",
      "Fizz\n",
      "no\n",
      "no\n",
      "Fizz\n",
      "Buzz\n"
     ]
    }
   ],
   "source": [
    "for x in range(0,101):\n",
    "    if x%3==0 and x%5==0:\n",
    "        print('FizzBuzz')\n",
    "    elif x%3 ==0:\n",
    "        print('Fizz')\n",
    "    elif x%5==0:\n",
    "        print('Buzz')\n",
    "    else:\n",
    "        print('no')"
   ]
  },
  {
   "cell_type": "code",
   "execution_count": 36,
   "metadata": {},
   "outputs": [
    {
     "name": "stdout",
     "output_type": "stream",
     "text": [
      "['C', 'a', 'l', 'o', 't', 'f', 'l', 'o', 'e', 'w', 'i', 't', 's']\n"
     ]
    }
   ],
   "source": [
    "st = 'Create a list of the first letters of every word in this string'\n",
    "new_list=[]\n",
    "my_list = st.split()\n",
    "for x in my_list:\n",
    "    new_list.append(x[0])\n",
    "print(new_list)"
   ]
  },
  {
   "cell_type": "code",
   "execution_count": null,
   "metadata": {},
   "outputs": [],
   "source": []
  }
 ],
 "metadata": {
  "kernelspec": {
   "display_name": "Python 3",
   "language": "python",
   "name": "python3"
  },
  "language_info": {
   "codemirror_mode": {
    "name": "ipython",
    "version": 3
   },
   "file_extension": ".py",
   "mimetype": "text/x-python",
   "name": "python",
   "nbconvert_exporter": "python",
   "pygments_lexer": "ipython3",
   "version": "3.7.0"
  }
 },
 "nbformat": 4,
 "nbformat_minor": 2
}
